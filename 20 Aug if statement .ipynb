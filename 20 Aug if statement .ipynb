{
 "cells": [
  {
   "cell_type": "code",
   "execution_count": 5,
   "id": "bd05c882-a3e0-4c14-818f-09a7d5fb93b2",
   "metadata": {},
   "outputs": [
    {
     "name": "stdin",
     "output_type": "stream",
     "text": [
      "Enter the amount 1000\n"
     ]
    },
    {
     "name": "stdout",
     "output_type": "stream",
     "text": [
      "Product cost is 800.0\n"
     ]
    }
   ],
   "source": [
    "money= int(input('Enter the amount'))\n",
    "if money>=1000:\n",
    "    money=money-(money*.2)\n",
    "    print(f'Product cost is {money}')\n",
    "else:\n",
    "    money=money-(money*.3)\n",
    "    print(f'Product cost is {money}')"
   ]
  },
  {
   "cell_type": "code",
   "execution_count": null,
   "id": "1b6e46d1-1b20-40c8-a3ac-0b7b54c51c25",
   "metadata": {},
   "outputs": [],
   "source": []
  }
 ],
 "metadata": {
  "kernelspec": {
   "display_name": "Python 3 (ipykernel)",
   "language": "python",
   "name": "python3"
  },
  "language_info": {
   "codemirror_mode": {
    "name": "ipython",
    "version": 3
   },
   "file_extension": ".py",
   "mimetype": "text/x-python",
   "name": "python",
   "nbconvert_exporter": "python",
   "pygments_lexer": "ipython3",
   "version": "3.10.8"
  }
 },
 "nbformat": 4,
 "nbformat_minor": 5
}
